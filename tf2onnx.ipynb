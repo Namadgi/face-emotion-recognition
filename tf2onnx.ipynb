{
 "cells": [
  {
   "cell_type": "code",
   "execution_count": 4,
   "metadata": {},
   "outputs": [],
   "source": [
    "import tensorflow as tf\n",
    "import tf2onnx\n",
    "from tensorflow.keras.models import load_model, Model\n",
    "import onnx"
   ]
  },
  {
   "cell_type": "code",
   "execution_count": 24,
   "metadata": {},
   "outputs": [
    {
     "name": "stderr",
     "output_type": "stream",
     "text": [
      "WARNING:absl:No training configuration found in the save file, so the model was *not* compiled. Compile it manually.\n"
     ]
    }
   ],
   "source": [
    "model=load_model('models/affectnet_emotions/mobilenet_7.h5')\n"
   ]
  },
  {
   "cell_type": "code",
   "execution_count": 9,
   "metadata": {},
   "outputs": [],
   "source": [
    "input_signature = [tf.TensorSpec([1, 224, 224, 3], tf.float32, name='x')]\n",
    "onnx_model, _ = tf2onnx.convert.from_keras(model, input_signature)"
   ]
  },
  {
   "cell_type": "code",
   "execution_count": 10,
   "metadata": {},
   "outputs": [],
   "source": [
    "onnx.save(onnx_model, \"mobnet.onnx\")"
   ]
  },
  {
   "cell_type": "code",
   "execution_count": 11,
   "metadata": {},
   "outputs": [],
   "source": [
    "import cv2"
   ]
  },
  {
   "cell_type": "code",
   "execution_count": 17,
   "metadata": {},
   "outputs": [],
   "source": [
    "import onnxruntime as ort\n",
    "import numpy as np\n",
    "\n",
    "img = cv2.imread('test_images/0.jpg')\n",
    "img = cv2.cvtColor(img, cv2.COLOR_BGR2RGB)\n",
    "img = img.astype(np.float32)\n",
    "img[..., 0] -= 103.939\n",
    "img[..., 1] -= 116.779\n",
    "img[..., 2] -= 123.68\n",
    "input1 = np.expand_dims(img, axis=0)\n",
    "# img.shape\n",
    "# # Change shapes and types to match model\n",
    "# input1 = np.zeros((1, 100, 100, 3), np.float32)\n",
    "\n",
    "# # Start from ORT 1.10, ORT requires explicitly setting the providers parameter if you want to use execution providers\n",
    "# # other than the default CPU provider (as opposed to the previous behavior of providers getting set/registered by default\n",
    "# # based on the build flags) when instantiating InferenceSession.\n",
    "# # Following code assumes NVIDIA GPU is available, you can specify other execution providers or don't include providers parameter\n",
    "# # to use default CPU provider.\n",
    "sess = ort.InferenceSession(\"mobnet.onnx\", providers=[\"CPUExecutionProvider\"])\n",
    "\n",
    "# # Set first argument of sess.run to None to use all model outputs in default order\n",
    "# # Input/output names are printed by the CLI and can be set with --rename-inputs and --rename-outputs\n",
    "# # If using the python API, names are determined from function arg names or TensorSpec names.\n",
    "results_ort = sess.run([\"emotion_preds\"], {\"x\": input1})\n",
    "\n",
    "# import tensorflow as tf\n",
    "# model = tf.saved_model.load(\"path/to/savedmodel\")\n",
    "# results_tf = model(input1)\n",
    "\n",
    "# for ort_res, tf_res in zip(results_ort, results_tf):\n",
    "#     np.testing.assert_allclose(ort_res, tf_res, rtol=1e-5, atol=1e-5)\n",
    "\n",
    "# print(\"Results match\")"
   ]
  },
  {
   "cell_type": "code",
   "execution_count": 25,
   "metadata": {},
   "outputs": [
    {
     "data": {
      "text/plain": [
       "<tf.Tensor: shape=(1, 7), dtype=float32, numpy=\n",
       "array([[0.00333036, 0.00210853, 0.02542588, 0.5138411 , 0.32844722,\n",
       "        0.02245977, 0.10438712]], dtype=float32)>"
      ]
     },
     "execution_count": 25,
     "metadata": {},
     "output_type": "execute_result"
    }
   ],
   "source": [
    "model(input1)"
   ]
  },
  {
   "cell_type": "code",
   "execution_count": 26,
   "metadata": {},
   "outputs": [
    {
     "data": {
      "text/plain": [
       "[array([[0.00333036, 0.00210852, 0.02542585, 0.5138409 , 0.32844752,\n",
       "         0.02245977, 0.10438711]], dtype=float32)]"
      ]
     },
     "execution_count": 26,
     "metadata": {},
     "output_type": "execute_result"
    }
   ],
   "source": [
    "results_ort"
   ]
  },
  {
   "cell_type": "code",
   "execution_count": 22,
   "metadata": {},
   "outputs": [
    {
     "data": {
      "text/plain": [
       "3"
      ]
     },
     "execution_count": 22,
     "metadata": {},
     "output_type": "execute_result"
    }
   ],
   "source": [
    "np.argmax(results_ort[0])"
   ]
  },
  {
   "cell_type": "code",
   "execution_count": 23,
   "metadata": {},
   "outputs": [],
   "source": [
    "idx_to_class={0: 'Anger', 1: 'Disgust', 2: 'Fear', 3: 'Happiness', 4: 'Neutral', 5: 'Sadness', 6: 'Surprise'}\n"
   ]
  },
  {
   "cell_type": "code",
   "execution_count": null,
   "metadata": {},
   "outputs": [],
   "source": []
  }
 ],
 "metadata": {
  "kernelspec": {
   "display_name": "Python 3",
   "language": "python",
   "name": "python3"
  },
  "language_info": {
   "codemirror_mode": {
    "name": "ipython",
    "version": 3
   },
   "file_extension": ".py",
   "mimetype": "text/x-python",
   "name": "python",
   "nbconvert_exporter": "python",
   "pygments_lexer": "ipython3",
   "version": "3.12.2"
  }
 },
 "nbformat": 4,
 "nbformat_minor": 2
}
